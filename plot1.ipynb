{
 "cells": [
  {
   "cell_type": "markdown",
   "metadata": {},
   "source": [
    "# Initialization:"
   ]
  },
  {
   "cell_type": "code",
   "execution_count": 8,
   "metadata": {},
   "outputs": [],
   "source": [
    "import os\n",
    "import pandas as pd\n",
    "import numpy as np\n",
    "from sklearn import linear_model, datasets\n",
    "import matplotlib.pyplot as plt\n",
    "plt.style.use('ggplot')\n",
    "%matplotlib inline"
   ]
  },
  {
   "cell_type": "markdown",
   "metadata": {},
   "source": [
    "# Reading the data:"
   ]
  },
  {
   "cell_type": "markdown",
   "metadata": {},
   "source": [
    "Data source: Baby names recorded in Social Security Card Applications from 1910 to 2016. \n",
    "\n",
    "https://catalog.data.gov/dataset/baby-names-from-social-security-card-applications-data-by-state-and-district-of-"
   ]
  },
  {
   "cell_type": "markdown",
   "metadata": {},
   "source": [
    "Read the data files and stack the state data on top of each other:"
   ]
  },
  {
   "cell_type": "code",
   "execution_count": 9,
   "metadata": {},
   "outputs": [
    {
     "data": {
      "text/html": [
       "<div>\n",
       "<style scoped>\n",
       "    .dataframe tbody tr th:only-of-type {\n",
       "        vertical-align: middle;\n",
       "    }\n",
       "\n",
       "    .dataframe tbody tr th {\n",
       "        vertical-align: top;\n",
       "    }\n",
       "\n",
       "    .dataframe thead th {\n",
       "        text-align: right;\n",
       "    }\n",
       "</style>\n",
       "<table border=\"1\" class=\"dataframe\">\n",
       "  <thead>\n",
       "    <tr style=\"text-align: right;\">\n",
       "      <th></th>\n",
       "      <th>Name</th>\n",
       "      <th>Year</th>\n",
       "      <th>Gender</th>\n",
       "      <th>State</th>\n",
       "      <th>Count</th>\n",
       "    </tr>\n",
       "  </thead>\n",
       "  <tbody>\n",
       "    <tr>\n",
       "      <th>129366</th>\n",
       "      <td>Marvin</td>\n",
       "      <td>2015</td>\n",
       "      <td>M</td>\n",
       "      <td>AL</td>\n",
       "      <td>6</td>\n",
       "    </tr>\n",
       "    <tr>\n",
       "      <th>26387</th>\n",
       "      <td>Wesley</td>\n",
       "      <td>1954</td>\n",
       "      <td>M</td>\n",
       "      <td>NH</td>\n",
       "      <td>7</td>\n",
       "    </tr>\n",
       "    <tr>\n",
       "      <th>14653</th>\n",
       "      <td>Dona</td>\n",
       "      <td>1950</td>\n",
       "      <td>F</td>\n",
       "      <td>KS</td>\n",
       "      <td>6</td>\n",
       "    </tr>\n",
       "    <tr>\n",
       "      <th>73824</th>\n",
       "      <td>Dillon</td>\n",
       "      <td>1979</td>\n",
       "      <td>M</td>\n",
       "      <td>IA</td>\n",
       "      <td>6</td>\n",
       "    </tr>\n",
       "    <tr>\n",
       "      <th>103032</th>\n",
       "      <td>Willard</td>\n",
       "      <td>1918</td>\n",
       "      <td>M</td>\n",
       "      <td>MI</td>\n",
       "      <td>89</td>\n",
       "    </tr>\n",
       "  </tbody>\n",
       "</table>\n",
       "</div>"
      ],
      "text/plain": [
       "           Name  Year Gender State  Count\n",
       "129366   Marvin  2015      M    AL      6\n",
       "26387    Wesley  1954      M    NH      7\n",
       "14653      Dona  1950      F    KS      6\n",
       "73824    Dillon  1979      M    IA      6\n",
       "103032  Willard  1918      M    MI     89"
      ]
     },
     "execution_count": 9,
     "metadata": {},
     "output_type": "execute_result"
    }
   ],
   "source": [
    "path=\"C:/Users/Abin/Desktop/state/\"\n",
    "data = pd.DataFrame()\n",
    "\n",
    "for state in [x[:2] for x in os.listdir(path) if len(x)==6]:\n",
    "    state_data = pd.read_csv(path +state + \".TXT\",header=None,names=[\"State\", \"Gender\", \"Year\", \"Name\", \"Count\"])\n",
    "    data = pd.concat([data, state_data])\n",
    "\n",
    "data = data[[\"Name\", \"Year\", \"Gender\", \"State\", \"Count\"]]\n",
    "data.sample(5)"
   ]
  },
  {
   "cell_type": "markdown",
   "metadata": {},
   "source": [
    "# Analysis:"
   ]
  },
  {
   "cell_type": "markdown",
   "metadata": {},
   "source": [
    "Create a summary by summing over all states for a specific name for each year:"
   ]
  },
  {
   "cell_type": "code",
   "execution_count": 10,
   "metadata": {},
   "outputs": [
    {
     "data": {
      "text/html": [
       "<div>\n",
       "<style scoped>\n",
       "    .dataframe tbody tr th:only-of-type {\n",
       "        vertical-align: middle;\n",
       "    }\n",
       "\n",
       "    .dataframe tbody tr th {\n",
       "        vertical-align: top;\n",
       "    }\n",
       "\n",
       "    .dataframe thead th {\n",
       "        text-align: right;\n",
       "    }\n",
       "</style>\n",
       "<table border=\"1\" class=\"dataframe\">\n",
       "  <thead>\n",
       "    <tr style=\"text-align: right;\">\n",
       "      <th></th>\n",
       "      <th>Aaban</th>\n",
       "      <th>Aadan</th>\n",
       "      <th>Aadarsh</th>\n",
       "      <th>Aaden</th>\n",
       "      <th>Aadhav</th>\n",
       "      <th>Aadhya</th>\n",
       "      <th>Aadi</th>\n",
       "      <th>Aadil</th>\n",
       "      <th>Aadin</th>\n",
       "      <th>Aadit</th>\n",
       "      <th>...</th>\n",
       "      <th>Zyonna</th>\n",
       "      <th>Zyquan</th>\n",
       "      <th>Zyquavious</th>\n",
       "      <th>Zyra</th>\n",
       "      <th>Zyrah</th>\n",
       "      <th>Zyren</th>\n",
       "      <th>Zyria</th>\n",
       "      <th>Zyriah</th>\n",
       "      <th>Zyron</th>\n",
       "      <th>Zyshonne</th>\n",
       "    </tr>\n",
       "    <tr>\n",
       "      <th>Year</th>\n",
       "      <th></th>\n",
       "      <th></th>\n",
       "      <th></th>\n",
       "      <th></th>\n",
       "      <th></th>\n",
       "      <th></th>\n",
       "      <th></th>\n",
       "      <th></th>\n",
       "      <th></th>\n",
       "      <th></th>\n",
       "      <th></th>\n",
       "      <th></th>\n",
       "      <th></th>\n",
       "      <th></th>\n",
       "      <th></th>\n",
       "      <th></th>\n",
       "      <th></th>\n",
       "      <th></th>\n",
       "      <th></th>\n",
       "      <th></th>\n",
       "      <th></th>\n",
       "    </tr>\n",
       "  </thead>\n",
       "  <tbody>\n",
       "    <tr>\n",
       "      <th>1939</th>\n",
       "      <td>0.0</td>\n",
       "      <td>0.0</td>\n",
       "      <td>0.0</td>\n",
       "      <td>0.0</td>\n",
       "      <td>0.0</td>\n",
       "      <td>0.0</td>\n",
       "      <td>0.0</td>\n",
       "      <td>0.0</td>\n",
       "      <td>0.0</td>\n",
       "      <td>0.0</td>\n",
       "      <td>...</td>\n",
       "      <td>0.0</td>\n",
       "      <td>0.0</td>\n",
       "      <td>0.0</td>\n",
       "      <td>0.0</td>\n",
       "      <td>0.0</td>\n",
       "      <td>0.0</td>\n",
       "      <td>0.0</td>\n",
       "      <td>0.0</td>\n",
       "      <td>0.0</td>\n",
       "      <td>0.0</td>\n",
       "    </tr>\n",
       "    <tr>\n",
       "      <th>1953</th>\n",
       "      <td>0.0</td>\n",
       "      <td>0.0</td>\n",
       "      <td>0.0</td>\n",
       "      <td>0.0</td>\n",
       "      <td>0.0</td>\n",
       "      <td>0.0</td>\n",
       "      <td>0.0</td>\n",
       "      <td>0.0</td>\n",
       "      <td>0.0</td>\n",
       "      <td>0.0</td>\n",
       "      <td>...</td>\n",
       "      <td>0.0</td>\n",
       "      <td>0.0</td>\n",
       "      <td>0.0</td>\n",
       "      <td>0.0</td>\n",
       "      <td>0.0</td>\n",
       "      <td>0.0</td>\n",
       "      <td>0.0</td>\n",
       "      <td>0.0</td>\n",
       "      <td>0.0</td>\n",
       "      <td>0.0</td>\n",
       "    </tr>\n",
       "    <tr>\n",
       "      <th>2004</th>\n",
       "      <td>0.0</td>\n",
       "      <td>0.0</td>\n",
       "      <td>0.0</td>\n",
       "      <td>0.0</td>\n",
       "      <td>0.0</td>\n",
       "      <td>0.0</td>\n",
       "      <td>8.0</td>\n",
       "      <td>0.0</td>\n",
       "      <td>0.0</td>\n",
       "      <td>0.0</td>\n",
       "      <td>...</td>\n",
       "      <td>0.0</td>\n",
       "      <td>0.0</td>\n",
       "      <td>0.0</td>\n",
       "      <td>0.0</td>\n",
       "      <td>0.0</td>\n",
       "      <td>0.0</td>\n",
       "      <td>0.0</td>\n",
       "      <td>0.0</td>\n",
       "      <td>0.0</td>\n",
       "      <td>0.0</td>\n",
       "    </tr>\n",
       "    <tr>\n",
       "      <th>1911</th>\n",
       "      <td>0.0</td>\n",
       "      <td>0.0</td>\n",
       "      <td>0.0</td>\n",
       "      <td>0.0</td>\n",
       "      <td>0.0</td>\n",
       "      <td>0.0</td>\n",
       "      <td>0.0</td>\n",
       "      <td>0.0</td>\n",
       "      <td>0.0</td>\n",
       "      <td>0.0</td>\n",
       "      <td>...</td>\n",
       "      <td>0.0</td>\n",
       "      <td>0.0</td>\n",
       "      <td>0.0</td>\n",
       "      <td>0.0</td>\n",
       "      <td>0.0</td>\n",
       "      <td>0.0</td>\n",
       "      <td>0.0</td>\n",
       "      <td>0.0</td>\n",
       "      <td>0.0</td>\n",
       "      <td>0.0</td>\n",
       "    </tr>\n",
       "    <tr>\n",
       "      <th>2013</th>\n",
       "      <td>6.0</td>\n",
       "      <td>0.0</td>\n",
       "      <td>0.0</td>\n",
       "      <td>154.0</td>\n",
       "      <td>0.0</td>\n",
       "      <td>135.0</td>\n",
       "      <td>29.0</td>\n",
       "      <td>0.0</td>\n",
       "      <td>0.0</td>\n",
       "      <td>0.0</td>\n",
       "      <td>...</td>\n",
       "      <td>0.0</td>\n",
       "      <td>0.0</td>\n",
       "      <td>0.0</td>\n",
       "      <td>12.0</td>\n",
       "      <td>6.0</td>\n",
       "      <td>6.0</td>\n",
       "      <td>0.0</td>\n",
       "      <td>7.0</td>\n",
       "      <td>0.0</td>\n",
       "      <td>0.0</td>\n",
       "    </tr>\n",
       "  </tbody>\n",
       "</table>\n",
       "<p>5 rows × 31014 columns</p>\n",
       "</div>"
      ],
      "text/plain": [
       "      Aaban  Aadan  Aadarsh  Aaden  Aadhav  Aadhya  Aadi  Aadil  Aadin  Aadit  \\\n",
       "Year                                                                            \n",
       "1939    0.0    0.0      0.0    0.0     0.0     0.0   0.0    0.0    0.0    0.0   \n",
       "1953    0.0    0.0      0.0    0.0     0.0     0.0   0.0    0.0    0.0    0.0   \n",
       "2004    0.0    0.0      0.0    0.0     0.0     0.0   8.0    0.0    0.0    0.0   \n",
       "1911    0.0    0.0      0.0    0.0     0.0     0.0   0.0    0.0    0.0    0.0   \n",
       "2013    6.0    0.0      0.0  154.0     0.0   135.0  29.0    0.0    0.0    0.0   \n",
       "\n",
       "        ...     Zyonna  Zyquan  Zyquavious  Zyra  Zyrah  Zyren  Zyria  Zyriah  \\\n",
       "Year    ...                                                                     \n",
       "1939    ...        0.0     0.0         0.0   0.0    0.0    0.0    0.0     0.0   \n",
       "1953    ...        0.0     0.0         0.0   0.0    0.0    0.0    0.0     0.0   \n",
       "2004    ...        0.0     0.0         0.0   0.0    0.0    0.0    0.0     0.0   \n",
       "1911    ...        0.0     0.0         0.0   0.0    0.0    0.0    0.0     0.0   \n",
       "2013    ...        0.0     0.0         0.0  12.0    6.0    6.0    0.0     7.0   \n",
       "\n",
       "      Zyron  Zyshonne  \n",
       "Year                   \n",
       "1939    0.0       0.0  \n",
       "1953    0.0       0.0  \n",
       "2004    0.0       0.0  \n",
       "1911    0.0       0.0  \n",
       "2013    0.0       0.0  \n",
       "\n",
       "[5 rows x 31014 columns]"
      ]
     },
     "execution_count": 10,
     "metadata": {},
     "output_type": "execute_result"
    }
   ],
   "source": [
    "data_sum=data.pivot_table(values='Count', index='Year' , columns='Name', aggfunc=sum).fillna(0).reset_index().rename_axis(None, axis=1).rename_axis(None, axis=0).set_index('Year')\n",
    "data_sum.sample(5)"
   ]
  },
  {
   "cell_type": "markdown",
   "metadata": {},
   "source": [
    "Query data for years after 2000 to be used in finding 'Hot' names. i.e., names that are increasing in time: "
   ]
  },
  {
   "cell_type": "code",
   "execution_count": 11,
   "metadata": {},
   "outputs": [],
   "source": [
    "new_data_sum=data_sum[data_sum.index>2000]"
   ]
  },
  {
   "cell_type": "markdown",
   "metadata": {},
   "source": [
    "Use linear regression on the new data summary to find the trend (decreasing, stable, increasing) of each name:"
   ]
  },
  {
   "cell_type": "code",
   "execution_count": 12,
   "metadata": {},
   "outputs": [],
   "source": [
    "regr = linear_model.LinearRegression()\n",
    "X=new_data_sum.index.values.astype(float).reshape(-1, 1)\n",
    "regr.fit(X, new_data_sum.values)\n",
    "line_y = regr.predict(X)\n",
    "predicted=pd.DataFrame(line_y, index=new_data_sum.index,columns=new_data_sum.columns) "
   ]
  },
  {
   "cell_type": "markdown",
   "metadata": {},
   "source": [
    "Plot the babies born in each year with a specific name along with the regression line:"
   ]
  },
  {
   "cell_type": "code",
   "execution_count": 19,
   "metadata": {},
   "outputs": [
    {
     "data": {
      "image/png": "[encoded data removed]",
      "text/plain": [
       "<matplotlib.figure.Figure at 0x16296885f28>"
      ]
     },
     "metadata": {},
     "output_type": "display_data"
    }
   ],
   "source": [
    "plt.figure(figsize=(15,7))\n",
    "_ = plt.plot(data_sum.index.values, data_sum['Oliver'], 'o', label='Original data', color='blue')\n",
    "plt.plot(X, predicted['Oliver'], color='black', linewidth=2, label='Regression line')\n",
    "plt.ylabel('Number of Babies born with the name \"Oliver\"', fontsize=20)\n",
    "plt.xlabel('Year', fontsize=24)\n",
    "plt.title('History of name \"Oliver\"', fontsize=30)\n",
    "plt.xticks(size=20)\n",
    "plt.yticks(size=20)\n",
    "plt.axis([1900, 2020, 0, 14000])\n",
    "plt.legend(loc=2, fontsize=16)\n",
    "plt.show()"
   ]
  },
  {
   "cell_type": "markdown",
   "metadata": {},
   "source": [
    " If the slope of the regression line is significantly greater than zero, it means that the name is Hot. Hence, \"Oliver\" is classified as a Hot name"
   ]
  },
  {
   "cell_type": "code",
   "execution_count": null,
   "metadata": {},
   "outputs": [],
   "source": []
  }
 ],
 "metadata": {
  "kernelspec": {
   "display_name": "Python 3",
   "language": "python",
   "name": "python3"
  },
  "language_info": {
   "codemirror_mode": {
    "name": "ipython",
    "version": 3
   },
   "file_extension": ".py",
   "mimetype": "text/x-python",
   "name": "python",
   "nbconvert_exporter": "python",
   "pygments_lexer": "ipython3",
   "version": "3.6.4"
  }
 },
 "nbformat": 4,
 "nbformat_minor": 2
}
