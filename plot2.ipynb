{
 "cells": [
  {
   "cell_type": "markdown",
   "metadata": {},
   "source": [
    "# Initialization:"
   ]
  },
  {
   "cell_type": "code",
   "execution_count": 1,
   "metadata": {},
   "outputs": [],
   "source": [
    "import os\n",
    "import pandas as pd\n",
    "import numpy as np\n",
    "from sklearn import linear_model, datasets\n",
    "import matplotlib.pyplot as plt\n",
    "plt.style.use('ggplot')\n",
    "%matplotlib inline"
   ]
  },
  {
   "cell_type": "markdown",
   "metadata": {},
   "source": [
    "# Reading the data:"
   ]
  },
  {
   "cell_type": "markdown",
   "metadata": {},
   "source": [
    "Data source: Baby names recorded in Social Security Card Applications from 1910 to 2016. \n",
    "\n",
    "https://catalog.data.gov/dataset/baby-names-from-social-security-card-applications-data-by-state-and-district-of-"
   ]
  },
  {
   "cell_type": "markdown",
   "metadata": {},
   "source": [
    "Read the data files and stack the state data on top of each other:"
   ]
  },
  {
   "cell_type": "code",
   "execution_count": 2,
   "metadata": {},
   "outputs": [
    {
     "data": {
      "text/html": [
       "<div>\n",
       "<style scoped>\n",
       "    .dataframe tbody tr th:only-of-type {\n",
       "        vertical-align: middle;\n",
       "    }\n",
       "\n",
       "    .dataframe tbody tr th {\n",
       "        vertical-align: top;\n",
       "    }\n",
       "\n",
       "    .dataframe thead th {\n",
       "        text-align: right;\n",
       "    }\n",
       "</style>\n",
       "<table border=\"1\" class=\"dataframe\">\n",
       "  <thead>\n",
       "    <tr style=\"text-align: right;\">\n",
       "      <th></th>\n",
       "      <th>Year</th>\n",
       "      <th>Gender</th>\n",
       "      <th>State</th>\n",
       "      <th>Count</th>\n",
       "    </tr>\n",
       "    <tr>\n",
       "      <th>Name</th>\n",
       "      <th></th>\n",
       "      <th></th>\n",
       "      <th></th>\n",
       "      <th></th>\n",
       "    </tr>\n",
       "  </thead>\n",
       "  <tbody>\n",
       "    <tr>\n",
       "      <th>Vester</th>\n",
       "      <td>1916</td>\n",
       "      <td>M</td>\n",
       "      <td>NC</td>\n",
       "      <td>8</td>\n",
       "    </tr>\n",
       "    <tr>\n",
       "      <th>Janie</th>\n",
       "      <td>1945</td>\n",
       "      <td>F</td>\n",
       "      <td>KY</td>\n",
       "      <td>27</td>\n",
       "    </tr>\n",
       "    <tr>\n",
       "      <th>Brooke</th>\n",
       "      <td>1995</td>\n",
       "      <td>F</td>\n",
       "      <td>GA</td>\n",
       "      <td>161</td>\n",
       "    </tr>\n",
       "    <tr>\n",
       "      <th>Arnold</th>\n",
       "      <td>1944</td>\n",
       "      <td>M</td>\n",
       "      <td>AZ</td>\n",
       "      <td>14</td>\n",
       "    </tr>\n",
       "    <tr>\n",
       "      <th>Winter</th>\n",
       "      <td>1998</td>\n",
       "      <td>F</td>\n",
       "      <td>PA</td>\n",
       "      <td>6</td>\n",
       "    </tr>\n",
       "  </tbody>\n",
       "</table>\n",
       "</div>"
      ],
      "text/plain": [
       "        Year Gender State  Count\n",
       "Name                            \n",
       "Vester  1916      M    NC      8\n",
       "Janie   1945      F    KY     27\n",
       "Brooke  1995      F    GA    161\n",
       "Arnold  1944      M    AZ     14\n",
       "Winter  1998      F    PA      6"
      ]
     },
     "execution_count": 2,
     "metadata": {},
     "output_type": "execute_result"
    }
   ],
   "source": [
    "path=\"C:/Users/Abin/Desktop/state/\"\n",
    "data = pd.DataFrame()\n",
    "\n",
    "for state in [x[:2] for x in os.listdir(path) if len(x)==6]:\n",
    "    state_data = pd.read_csv(path +state + \".TXT\",header=None,names=[\"State\", \"Gender\", \"Year\", \"Name\", \"Count\"])\n",
    "    data = pd.concat([data, state_data])\n",
    "\n",
    "data = data[[\"Name\", \"Year\", \"Gender\", \"State\", \"Count\"]].set_index('Name')\n",
    "data.sample(5)"
   ]
  },
  {
   "cell_type": "markdown",
   "metadata": {},
   "source": [
    "# Analysis:"
   ]
  },
  {
   "cell_type": "markdown",
   "metadata": {},
   "source": [
    "Create a summary by summing over all states for a specific name for each year:"
   ]
  },
  {
   "cell_type": "code",
   "execution_count": 3,
   "metadata": {},
   "outputs": [
    {
     "data": {
      "text/html": [
       "<div>\n",
       "<style scoped>\n",
       "    .dataframe tbody tr th:only-of-type {\n",
       "        vertical-align: middle;\n",
       "    }\n",
       "\n",
       "    .dataframe tbody tr th {\n",
       "        vertical-align: top;\n",
       "    }\n",
       "\n",
       "    .dataframe thead th {\n",
       "        text-align: right;\n",
       "    }\n",
       "</style>\n",
       "<table border=\"1\" class=\"dataframe\">\n",
       "  <thead>\n",
       "    <tr style=\"text-align: right;\">\n",
       "      <th></th>\n",
       "      <th>Aaban</th>\n",
       "      <th>Aadan</th>\n",
       "      <th>Aadarsh</th>\n",
       "      <th>Aaden</th>\n",
       "      <th>Aadhav</th>\n",
       "      <th>Aadhya</th>\n",
       "      <th>Aadi</th>\n",
       "      <th>Aadil</th>\n",
       "      <th>Aadin</th>\n",
       "      <th>Aadit</th>\n",
       "      <th>...</th>\n",
       "      <th>Zyonna</th>\n",
       "      <th>Zyquan</th>\n",
       "      <th>Zyquavious</th>\n",
       "      <th>Zyra</th>\n",
       "      <th>Zyrah</th>\n",
       "      <th>Zyren</th>\n",
       "      <th>Zyria</th>\n",
       "      <th>Zyriah</th>\n",
       "      <th>Zyron</th>\n",
       "      <th>Zyshonne</th>\n",
       "    </tr>\n",
       "    <tr>\n",
       "      <th>Year</th>\n",
       "      <th></th>\n",
       "      <th></th>\n",
       "      <th></th>\n",
       "      <th></th>\n",
       "      <th></th>\n",
       "      <th></th>\n",
       "      <th></th>\n",
       "      <th></th>\n",
       "      <th></th>\n",
       "      <th></th>\n",
       "      <th></th>\n",
       "      <th></th>\n",
       "      <th></th>\n",
       "      <th></th>\n",
       "      <th></th>\n",
       "      <th></th>\n",
       "      <th></th>\n",
       "      <th></th>\n",
       "      <th></th>\n",
       "      <th></th>\n",
       "      <th></th>\n",
       "    </tr>\n",
       "  </thead>\n",
       "  <tbody>\n",
       "    <tr>\n",
       "      <th>1943</th>\n",
       "      <td>0.0</td>\n",
       "      <td>0.0</td>\n",
       "      <td>0.0</td>\n",
       "      <td>0.0</td>\n",
       "      <td>0.0</td>\n",
       "      <td>0.0</td>\n",
       "      <td>0.0</td>\n",
       "      <td>0.0</td>\n",
       "      <td>0.0</td>\n",
       "      <td>0.0</td>\n",
       "      <td>...</td>\n",
       "      <td>0.0</td>\n",
       "      <td>0.0</td>\n",
       "      <td>0.0</td>\n",
       "      <td>0.0</td>\n",
       "      <td>0.0</td>\n",
       "      <td>0.0</td>\n",
       "      <td>0.0</td>\n",
       "      <td>0.0</td>\n",
       "      <td>0.0</td>\n",
       "      <td>0.0</td>\n",
       "    </tr>\n",
       "    <tr>\n",
       "      <th>2003</th>\n",
       "      <td>0.0</td>\n",
       "      <td>0.0</td>\n",
       "      <td>0.0</td>\n",
       "      <td>0.0</td>\n",
       "      <td>0.0</td>\n",
       "      <td>0.0</td>\n",
       "      <td>6.0</td>\n",
       "      <td>5.0</td>\n",
       "      <td>0.0</td>\n",
       "      <td>0.0</td>\n",
       "      <td>...</td>\n",
       "      <td>0.0</td>\n",
       "      <td>0.0</td>\n",
       "      <td>0.0</td>\n",
       "      <td>0.0</td>\n",
       "      <td>0.0</td>\n",
       "      <td>0.0</td>\n",
       "      <td>11.0</td>\n",
       "      <td>0.0</td>\n",
       "      <td>0.0</td>\n",
       "      <td>0.0</td>\n",
       "    </tr>\n",
       "    <tr>\n",
       "      <th>1912</th>\n",
       "      <td>0.0</td>\n",
       "      <td>0.0</td>\n",
       "      <td>0.0</td>\n",
       "      <td>0.0</td>\n",
       "      <td>0.0</td>\n",
       "      <td>0.0</td>\n",
       "      <td>0.0</td>\n",
       "      <td>0.0</td>\n",
       "      <td>0.0</td>\n",
       "      <td>0.0</td>\n",
       "      <td>...</td>\n",
       "      <td>0.0</td>\n",
       "      <td>0.0</td>\n",
       "      <td>0.0</td>\n",
       "      <td>0.0</td>\n",
       "      <td>0.0</td>\n",
       "      <td>0.0</td>\n",
       "      <td>0.0</td>\n",
       "      <td>0.0</td>\n",
       "      <td>0.0</td>\n",
       "      <td>0.0</td>\n",
       "    </tr>\n",
       "    <tr>\n",
       "      <th>2011</th>\n",
       "      <td>0.0</td>\n",
       "      <td>0.0</td>\n",
       "      <td>0.0</td>\n",
       "      <td>229.0</td>\n",
       "      <td>0.0</td>\n",
       "      <td>20.0</td>\n",
       "      <td>6.0</td>\n",
       "      <td>0.0</td>\n",
       "      <td>0.0</td>\n",
       "      <td>0.0</td>\n",
       "      <td>...</td>\n",
       "      <td>6.0</td>\n",
       "      <td>0.0</td>\n",
       "      <td>0.0</td>\n",
       "      <td>5.0</td>\n",
       "      <td>5.0</td>\n",
       "      <td>0.0</td>\n",
       "      <td>5.0</td>\n",
       "      <td>6.0</td>\n",
       "      <td>0.0</td>\n",
       "      <td>0.0</td>\n",
       "    </tr>\n",
       "    <tr>\n",
       "      <th>1921</th>\n",
       "      <td>0.0</td>\n",
       "      <td>0.0</td>\n",
       "      <td>0.0</td>\n",
       "      <td>0.0</td>\n",
       "      <td>0.0</td>\n",
       "      <td>0.0</td>\n",
       "      <td>0.0</td>\n",
       "      <td>0.0</td>\n",
       "      <td>0.0</td>\n",
       "      <td>0.0</td>\n",
       "      <td>...</td>\n",
       "      <td>0.0</td>\n",
       "      <td>0.0</td>\n",
       "      <td>0.0</td>\n",
       "      <td>0.0</td>\n",
       "      <td>0.0</td>\n",
       "      <td>0.0</td>\n",
       "      <td>0.0</td>\n",
       "      <td>0.0</td>\n",
       "      <td>0.0</td>\n",
       "      <td>0.0</td>\n",
       "    </tr>\n",
       "  </tbody>\n",
       "</table>\n",
       "<p>5 rows × 31014 columns</p>\n",
       "</div>"
      ],
      "text/plain": [
       "      Aaban  Aadan  Aadarsh  Aaden  Aadhav  Aadhya  Aadi  Aadil  Aadin  Aadit  \\\n",
       "Year                                                                            \n",
       "1943    0.0    0.0      0.0    0.0     0.0     0.0   0.0    0.0    0.0    0.0   \n",
       "2003    0.0    0.0      0.0    0.0     0.0     0.0   6.0    5.0    0.0    0.0   \n",
       "1912    0.0    0.0      0.0    0.0     0.0     0.0   0.0    0.0    0.0    0.0   \n",
       "2011    0.0    0.0      0.0  229.0     0.0    20.0   6.0    0.0    0.0    0.0   \n",
       "1921    0.0    0.0      0.0    0.0     0.0     0.0   0.0    0.0    0.0    0.0   \n",
       "\n",
       "        ...     Zyonna  Zyquan  Zyquavious  Zyra  Zyrah  Zyren  Zyria  Zyriah  \\\n",
       "Year    ...                                                                     \n",
       "1943    ...        0.0     0.0         0.0   0.0    0.0    0.0    0.0     0.0   \n",
       "2003    ...        0.0     0.0         0.0   0.0    0.0    0.0   11.0     0.0   \n",
       "1912    ...        0.0     0.0         0.0   0.0    0.0    0.0    0.0     0.0   \n",
       "2011    ...        6.0     0.0         0.0   5.0    5.0    0.0    5.0     6.0   \n",
       "1921    ...        0.0     0.0         0.0   0.0    0.0    0.0    0.0     0.0   \n",
       "\n",
       "      Zyron  Zyshonne  \n",
       "Year                   \n",
       "1943    0.0       0.0  \n",
       "2003    0.0       0.0  \n",
       "1912    0.0       0.0  \n",
       "2011    0.0       0.0  \n",
       "1921    0.0       0.0  \n",
       "\n",
       "[5 rows x 31014 columns]"
      ]
     },
     "execution_count": 3,
     "metadata": {},
     "output_type": "execute_result"
    }
   ],
   "source": [
    "data_sum=data.pivot_table(values='Count', index='Year' , columns='Name', aggfunc=sum).fillna(0).reset_index().rename_axis(None, axis=1).rename_axis(None, axis=0).set_index('Year')\n",
    "data_sum.sample(5)"
   ]
  },
  {
   "cell_type": "markdown",
   "metadata": {},
   "source": [
    "Query data for years after 2000 to be used in finding 'Hot' names. i.e., names that are increasing in time: "
   ]
  },
  {
   "cell_type": "code",
   "execution_count": 4,
   "metadata": {},
   "outputs": [],
   "source": [
    "new_data_sum=data_sum[data_sum.index>2000]"
   ]
  },
  {
   "cell_type": "markdown",
   "metadata": {},
   "source": [
    "Use linear regression on the new data summary to find the trend (decreasing, stable, increasing) of each name:"
   ]
  },
  {
   "cell_type": "code",
   "execution_count": 6,
   "metadata": {},
   "outputs": [],
   "source": [
    "regr = linear_model.LinearRegression()\n",
    "X=new_data_sum.index.values.astype(float).reshape(-1, 1)\n",
    "regr=regr.fit(X, new_data_sum.values)"
   ]
  },
  {
   "cell_type": "markdown",
   "metadata": {},
   "source": [
    "Create a data frame to be used for plotting the decision boundaries of classification:"
   ]
  },
  {
   "cell_type": "code",
   "execution_count": 90,
   "metadata": {},
   "outputs": [
    {
     "data": {
      "text/html": [
       "<div>\n",
       "<style scoped>\n",
       "    .dataframe tbody tr th:only-of-type {\n",
       "        vertical-align: middle;\n",
       "    }\n",
       "\n",
       "    .dataframe tbody tr th {\n",
       "        vertical-align: top;\n",
       "    }\n",
       "\n",
       "    .dataframe thead th {\n",
       "        text-align: right;\n",
       "    }\n",
       "</style>\n",
       "<table border=\"1\" class=\"dataframe\">\n",
       "  <thead>\n",
       "    <tr style=\"text-align: right;\">\n",
       "      <th></th>\n",
       "      <th>regression_slope</th>\n",
       "    </tr>\n",
       "    <tr>\n",
       "      <th>index</th>\n",
       "      <th></th>\n",
       "    </tr>\n",
       "  </thead>\n",
       "  <tbody>\n",
       "    <tr>\n",
       "      <th>Liam</th>\n",
       "      <td>1274.311765</td>\n",
       "    </tr>\n",
       "    <tr>\n",
       "      <th>Harper</th>\n",
       "      <td>823.544118</td>\n",
       "    </tr>\n",
       "    <tr>\n",
       "      <th>Sophia</th>\n",
       "      <td>820.688235</td>\n",
       "    </tr>\n",
       "    <tr>\n",
       "      <th>Mason</th>\n",
       "      <td>782.107353</td>\n",
       "    </tr>\n",
       "    <tr>\n",
       "      <th>Ava</th>\n",
       "      <td>778.020588</td>\n",
       "    </tr>\n",
       "  </tbody>\n",
       "</table>\n",
       "</div>"
      ],
      "text/plain": [
       "        regression_slope\n",
       "index                   \n",
       "Liam         1274.311765\n",
       "Harper        823.544118\n",
       "Sophia        820.688235\n",
       "Mason         782.107353\n",
       "Ava           778.020588"
      ]
     },
     "execution_count": 90,
     "metadata": {},
     "output_type": "execute_result"
    }
   ],
   "source": [
    "slope=pd.DataFrame(regr.coef_.T,columns=new_data_sum.columns).T.reset_index()\n",
    "slope.columns = ['index', 'regression_slope']\n",
    "slope=slope.set_index('index').sort_values('regression_slope', ascending = 0)\n",
    "slope.head()"
   ]
  },
  {
   "cell_type": "markdown",
   "metadata": {},
   "source": [
    "In order to classify based on trends, split the data based on the slope of the regression line:"
   ]
  },
  {
   "cell_type": "code",
   "execution_count": 91,
   "metadata": {},
   "outputs": [
    {
     "data": {
      "text/html": [
       "<div>\n",
       "<style scoped>\n",
       "    .dataframe tbody tr th:only-of-type {\n",
       "        vertical-align: middle;\n",
       "    }\n",
       "\n",
       "    .dataframe tbody tr th {\n",
       "        vertical-align: top;\n",
       "    }\n",
       "\n",
       "    .dataframe thead th {\n",
       "        text-align: right;\n",
       "    }\n",
       "</style>\n",
       "<table border=\"1\" class=\"dataframe\">\n",
       "  <thead>\n",
       "    <tr style=\"text-align: right;\">\n",
       "      <th></th>\n",
       "      <th>regression_slope</th>\n",
       "      <th>trend_status</th>\n",
       "    </tr>\n",
       "    <tr>\n",
       "      <th>index</th>\n",
       "      <th></th>\n",
       "      <th></th>\n",
       "    </tr>\n",
       "  </thead>\n",
       "  <tbody>\n",
       "    <tr>\n",
       "      <th>Nalia</th>\n",
       "      <td>0.625000</td>\n",
       "      <td>stable</td>\n",
       "    </tr>\n",
       "    <tr>\n",
       "      <th>Aubryana</th>\n",
       "      <td>0.035294</td>\n",
       "      <td>stable</td>\n",
       "    </tr>\n",
       "    <tr>\n",
       "      <th>Tarrance</th>\n",
       "      <td>0.000000</td>\n",
       "      <td>stable</td>\n",
       "    </tr>\n",
       "    <tr>\n",
       "      <th>Temmy</th>\n",
       "      <td>0.010294</td>\n",
       "      <td>stable</td>\n",
       "    </tr>\n",
       "    <tr>\n",
       "      <th>Ageliki</th>\n",
       "      <td>0.000000</td>\n",
       "      <td>stable</td>\n",
       "    </tr>\n",
       "  </tbody>\n",
       "</table>\n",
       "</div>"
      ],
      "text/plain": [
       "          regression_slope trend_status\n",
       "index                                  \n",
       "Nalia             0.625000       stable\n",
       "Aubryana          0.035294       stable\n",
       "Tarrance          0.000000       stable\n",
       "Temmy             0.010294       stable\n",
       "Ageliki           0.000000       stable"
      ]
     },
     "execution_count": 91,
     "metadata": {},
     "output_type": "execute_result"
    }
   ],
   "source": [
    "divisions_bins = [-2000,-10,10,2000]\n",
    "slope['trend_status'] = pd.cut(slope['regression_slope'],divisions_bins,right=False,labels=['decreasing','stable','Hot'])\n",
    "slope.sample(5)"
   ]
  },
  {
   "cell_type": "markdown",
   "metadata": {},
   "source": [
    "Getting the statistics of the data based on the trend classification:"
   ]
  },
  {
   "cell_type": "code",
   "execution_count": 92,
   "metadata": {},
   "outputs": [
    {
     "data": {
      "text/plain": [
       "stable        0.930322\n",
       "Hot           0.036209\n",
       "decreasing    0.033469\n",
       "Name: trend_status, dtype: float64"
      ]
     },
     "execution_count": 92,
     "metadata": {},
     "output_type": "execute_result"
    }
   ],
   "source": [
    "slope.trend_status.value_counts().astype(float)/float(len(slope))"
   ]
  },
  {
   "cell_type": "markdown",
   "metadata": {},
   "source": [
    "Therefore, 93% of the names have a stable trend. Only 4% are Hot which matches my assumption about the Hot names."
   ]
  },
  {
   "cell_type": "markdown",
   "metadata": {},
   "source": [
    "Going back to the original data, add the mean column by averaging through years:"
   ]
  },
  {
   "cell_type": "code",
   "execution_count": 74,
   "metadata": {},
   "outputs": [],
   "source": [
    "data_sum_stats=data_sum.copy()\n",
    "data_sum_stats.loc['count_mean'] = data_sum_stats.mean()"
   ]
  },
  {
   "cell_type": "markdown",
   "metadata": {},
   "source": [
    "Sort the new data summary by 'count_mean' to see which names are the most 'Popular':"
   ]
  },
  {
   "cell_type": "code",
   "execution_count": 75,
   "metadata": {},
   "outputs": [
    {
     "data": {
      "text/html": [
       "<div>\n",
       "<style scoped>\n",
       "    .dataframe tbody tr th:only-of-type {\n",
       "        vertical-align: middle;\n",
       "    }\n",
       "\n",
       "    .dataframe tbody tr th {\n",
       "        vertical-align: top;\n",
       "    }\n",
       "\n",
       "    .dataframe thead th {\n",
       "        text-align: right;\n",
       "    }\n",
       "</style>\n",
       "<table border=\"1\" class=\"dataframe\">\n",
       "  <thead>\n",
       "    <tr style=\"text-align: right;\">\n",
       "      <th></th>\n",
       "      <th>1910</th>\n",
       "      <th>1911</th>\n",
       "      <th>1912</th>\n",
       "      <th>1913</th>\n",
       "      <th>1914</th>\n",
       "      <th>1915</th>\n",
       "      <th>1916</th>\n",
       "      <th>1917</th>\n",
       "      <th>1918</th>\n",
       "      <th>1919</th>\n",
       "      <th>...</th>\n",
       "      <th>2008</th>\n",
       "      <th>2009</th>\n",
       "      <th>2010</th>\n",
       "      <th>2011</th>\n",
       "      <th>2012</th>\n",
       "      <th>2013</th>\n",
       "      <th>2014</th>\n",
       "      <th>2015</th>\n",
       "      <th>2016</th>\n",
       "      <th>count_mean</th>\n",
       "    </tr>\n",
       "    <tr>\n",
       "      <th>index</th>\n",
       "      <th></th>\n",
       "      <th></th>\n",
       "      <th></th>\n",
       "      <th></th>\n",
       "      <th></th>\n",
       "      <th></th>\n",
       "      <th></th>\n",
       "      <th></th>\n",
       "      <th></th>\n",
       "      <th></th>\n",
       "      <th></th>\n",
       "      <th></th>\n",
       "      <th></th>\n",
       "      <th></th>\n",
       "      <th></th>\n",
       "      <th></th>\n",
       "      <th></th>\n",
       "      <th></th>\n",
       "      <th></th>\n",
       "      <th></th>\n",
       "      <th></th>\n",
       "    </tr>\n",
       "  </thead>\n",
       "  <tbody>\n",
       "    <tr>\n",
       "      <th>James</th>\n",
       "      <td>9203.0</td>\n",
       "      <td>9980.0</td>\n",
       "      <td>17683.0</td>\n",
       "      <td>20880.0</td>\n",
       "      <td>26326.0</td>\n",
       "      <td>33890.0</td>\n",
       "      <td>35702.0</td>\n",
       "      <td>37472.0</td>\n",
       "      <td>42295.0</td>\n",
       "      <td>42551.0</td>\n",
       "      <td>...</td>\n",
       "      <td>15170.0</td>\n",
       "      <td>14199.0</td>\n",
       "      <td>13870.0</td>\n",
       "      <td>13239.0</td>\n",
       "      <td>13404.0</td>\n",
       "      <td>13540.0</td>\n",
       "      <td>14408.0</td>\n",
       "      <td>14785.0</td>\n",
       "      <td>14790.0</td>\n",
       "      <td>46610.242991</td>\n",
       "    </tr>\n",
       "    <tr>\n",
       "      <th>John</th>\n",
       "      <td>11479.0</td>\n",
       "      <td>13469.0</td>\n",
       "      <td>24662.0</td>\n",
       "      <td>29401.0</td>\n",
       "      <td>38051.0</td>\n",
       "      <td>47717.0</td>\n",
       "      <td>50219.0</td>\n",
       "      <td>52053.0</td>\n",
       "      <td>56772.0</td>\n",
       "      <td>53777.0</td>\n",
       "      <td>...</td>\n",
       "      <td>13313.0</td>\n",
       "      <td>12109.0</td>\n",
       "      <td>11550.0</td>\n",
       "      <td>11033.0</td>\n",
       "      <td>10611.0</td>\n",
       "      <td>10695.0</td>\n",
       "      <td>10675.0</td>\n",
       "      <td>10360.0</td>\n",
       "      <td>9952.0</td>\n",
       "      <td>45479.457944</td>\n",
       "    </tr>\n",
       "    <tr>\n",
       "      <th>Robert</th>\n",
       "      <td>5609.0</td>\n",
       "      <td>6524.0</td>\n",
       "      <td>12852.0</td>\n",
       "      <td>15707.0</td>\n",
       "      <td>21208.0</td>\n",
       "      <td>28801.0</td>\n",
       "      <td>31803.0</td>\n",
       "      <td>35338.0</td>\n",
       "      <td>40752.0</td>\n",
       "      <td>41158.0</td>\n",
       "      <td>...</td>\n",
       "      <td>8822.0</td>\n",
       "      <td>7818.0</td>\n",
       "      <td>7547.0</td>\n",
       "      <td>6964.0</td>\n",
       "      <td>6937.0</td>\n",
       "      <td>6698.0</td>\n",
       "      <td>6623.0</td>\n",
       "      <td>6100.0</td>\n",
       "      <td>5953.0</td>\n",
       "      <td>44282.280374</td>\n",
       "    </tr>\n",
       "    <tr>\n",
       "      <th>Michael</th>\n",
       "      <td>795.0</td>\n",
       "      <td>1114.0</td>\n",
       "      <td>2068.0</td>\n",
       "      <td>2566.0</td>\n",
       "      <td>3314.0</td>\n",
       "      <td>4046.0</td>\n",
       "      <td>4180.0</td>\n",
       "      <td>4258.0</td>\n",
       "      <td>4259.0</td>\n",
       "      <td>3896.0</td>\n",
       "      <td>...</td>\n",
       "      <td>20619.0</td>\n",
       "      <td>18932.0</td>\n",
       "      <td>17336.0</td>\n",
       "      <td>16775.0</td>\n",
       "      <td>16143.0</td>\n",
       "      <td>15468.0</td>\n",
       "      <td>15431.0</td>\n",
       "      <td>14406.0</td>\n",
       "      <td>14004.0</td>\n",
       "      <td>40578.878505</td>\n",
       "    </tr>\n",
       "    <tr>\n",
       "      <th>William</th>\n",
       "      <td>8849.0</td>\n",
       "      <td>10603.0</td>\n",
       "      <td>19648.0</td>\n",
       "      <td>23579.0</td>\n",
       "      <td>29801.0</td>\n",
       "      <td>38635.0</td>\n",
       "      <td>40516.0</td>\n",
       "      <td>42534.0</td>\n",
       "      <td>45408.0</td>\n",
       "      <td>44103.0</td>\n",
       "      <td>...</td>\n",
       "      <td>18386.0</td>\n",
       "      <td>17908.0</td>\n",
       "      <td>17042.0</td>\n",
       "      <td>17331.0</td>\n",
       "      <td>16872.0</td>\n",
       "      <td>16612.0</td>\n",
       "      <td>16798.0</td>\n",
       "      <td>15863.0</td>\n",
       "      <td>15668.0</td>\n",
       "      <td>36180.289720</td>\n",
       "    </tr>\n",
       "  </tbody>\n",
       "</table>\n",
       "<p>5 rows × 108 columns</p>\n",
       "</div>"
      ],
      "text/plain": [
       "            1910     1911     1912     1913     1914     1915     1916  \\\n",
       "index                                                                    \n",
       "James     9203.0   9980.0  17683.0  20880.0  26326.0  33890.0  35702.0   \n",
       "John     11479.0  13469.0  24662.0  29401.0  38051.0  47717.0  50219.0   \n",
       "Robert    5609.0   6524.0  12852.0  15707.0  21208.0  28801.0  31803.0   \n",
       "Michael    795.0   1114.0   2068.0   2566.0   3314.0   4046.0   4180.0   \n",
       "William   8849.0  10603.0  19648.0  23579.0  29801.0  38635.0  40516.0   \n",
       "\n",
       "            1917     1918     1919      ...          2008     2009     2010  \\\n",
       "index                                   ...                                   \n",
       "James    37472.0  42295.0  42551.0      ...       15170.0  14199.0  13870.0   \n",
       "John     52053.0  56772.0  53777.0      ...       13313.0  12109.0  11550.0   \n",
       "Robert   35338.0  40752.0  41158.0      ...        8822.0   7818.0   7547.0   \n",
       "Michael   4258.0   4259.0   3896.0      ...       20619.0  18932.0  17336.0   \n",
       "William  42534.0  45408.0  44103.0      ...       18386.0  17908.0  17042.0   \n",
       "\n",
       "            2011     2012     2013     2014     2015     2016    count_mean  \n",
       "index                                                                        \n",
       "James    13239.0  13404.0  13540.0  14408.0  14785.0  14790.0  46610.242991  \n",
       "John     11033.0  10611.0  10695.0  10675.0  10360.0   9952.0  45479.457944  \n",
       "Robert    6964.0   6937.0   6698.0   6623.0   6100.0   5953.0  44282.280374  \n",
       "Michael  16775.0  16143.0  15468.0  15431.0  14406.0  14004.0  40578.878505  \n",
       "William  17331.0  16872.0  16612.0  16798.0  15863.0  15668.0  36180.289720  \n",
       "\n",
       "[5 rows x 108 columns]"
      ]
     },
     "execution_count": 75,
     "metadata": {},
     "output_type": "execute_result"
    }
   ],
   "source": [
    "data_sum_stats=data_sum_stats.T.reset_index().rename_axis(None, axis=1).set_index('index').sort_values('count_mean', ascending = 0)\n",
    "data_sum_stats.head()"
   ]
  },
  {
   "cell_type": "markdown",
   "metadata": {},
   "source": [
    "Plot the histogram of averages of all names to find the 'Popular' names:"
   ]
  },
  {
   "cell_type": "code",
   "execution_count": 76,
   "metadata": {},
   "outputs": [
    {
     "data": {
      "image/png": "[encoded data removed]",
      "text/plain": [
       "<matplotlib.figure.Figure at 0x27d9b3d0518>"
      ]
     },
     "metadata": {},
     "output_type": "display_data"
    }
   ],
   "source": [
    "plt.figure(figsize=(15,7))\n",
    "(n, bins, patches) = plt.hist(data_sum_stats['count_mean'],normed=True,bins=50,color='blue')\n",
    "plt.ylabel('Normalized mean count', fontsize=24)\n",
    "plt.xlabel('Name label', fontsize=24)\n",
    "plt.title('Histogram of sorted mean count of Names', fontsize=30)\n",
    "plt.xticks(size=20)\n",
    "plt.yticks(size=20)\n",
    "plt.axis([0, 10000, 0, 0.0014])\n",
    "plt.arrow(400, 0.00106, 0, 0.0001, head_width=100,  head_length=0.00005, fc='k', ec='k')\n",
    "plt.text(100, 0.0013, 'Popular', fontsize=18,color='black',verticalalignment='top')\n",
    "plt.show()"
   ]
  },
  {
   "cell_type": "markdown",
   "metadata": {},
   "source": [
    "The histogram shows that the 'Popular' names are the ones in the bin with a maximum height (first bin). Hence, to classify the data based on popularity, divide the data based on the names with labels that are smaller than the width of the first bin as cutoff values :"
   ]
  },
  {
   "cell_type": "code",
   "execution_count": 78,
   "metadata": {},
   "outputs": [
    {
     "data": {
      "text/plain": [
       "932.2506542056075"
      ]
     },
     "execution_count": 78,
     "metadata": {},
     "output_type": "execute_result"
    }
   ],
   "source": [
    "count_cutoff = bins[1]\n",
    "count_cutoff"
   ]
  },
  {
   "cell_type": "code",
   "execution_count": 79,
   "metadata": {},
   "outputs": [
    {
     "data": {
      "text/plain": [
       "0.019507319275166055"
      ]
     },
     "execution_count": 79,
     "metadata": {},
     "output_type": "execute_result"
    }
   ],
   "source": [
    "(data_sum_stats.count_mean >= count_cutoff).mean()"
   ]
  },
  {
   "cell_type": "markdown",
   "metadata": {},
   "source": [
    "Hence, 2% of the names have mean count higher than the cuttoff value. This is a reasonable value for  'Popular' names. "
   ]
  },
  {
   "cell_type": "code",
   "execution_count": 80,
   "metadata": {},
   "outputs": [],
   "source": [
    "data_sum_stats['is_popular'] = data_sum_stats.count_mean  >= count_cutoff"
   ]
  },
  {
   "cell_type": "markdown",
   "metadata": {},
   "source": [
    "Use the obtained treshold for popularity to complete the previous clasification (based on trend): "
   ]
  },
  {
   "cell_type": "code",
   "execution_count": 93,
   "metadata": {},
   "outputs": [
    {
     "data": {
      "text/html": [
       "<div>\n",
       "<style scoped>\n",
       "    .dataframe tbody tr th:only-of-type {\n",
       "        vertical-align: middle;\n",
       "    }\n",
       "\n",
       "    .dataframe tbody tr th {\n",
       "        vertical-align: top;\n",
       "    }\n",
       "\n",
       "    .dataframe thead th {\n",
       "        text-align: right;\n",
       "    }\n",
       "</style>\n",
       "<table border=\"1\" class=\"dataframe\">\n",
       "  <thead>\n",
       "    <tr style=\"text-align: right;\">\n",
       "      <th></th>\n",
       "      <th>regression_slope</th>\n",
       "      <th>trend_status</th>\n",
       "      <th>is_popular</th>\n",
       "      <th>count_mean</th>\n",
       "    </tr>\n",
       "    <tr>\n",
       "      <th>index</th>\n",
       "      <th></th>\n",
       "      <th></th>\n",
       "      <th></th>\n",
       "      <th></th>\n",
       "    </tr>\n",
       "  </thead>\n",
       "  <tbody>\n",
       "    <tr>\n",
       "      <th>Kamdyn</th>\n",
       "      <td>22.676471</td>\n",
       "      <td>Hot</td>\n",
       "      <td>False</td>\n",
       "      <td>17.850467</td>\n",
       "    </tr>\n",
       "    <tr>\n",
       "      <th>Blake</th>\n",
       "      <td>13.057353</td>\n",
       "      <td>Hot</td>\n",
       "      <td>True</td>\n",
       "      <td>1619.457944</td>\n",
       "    </tr>\n",
       "    <tr>\n",
       "      <th>Woodson</th>\n",
       "      <td>0.000000</td>\n",
       "      <td>stable</td>\n",
       "      <td>False</td>\n",
       "      <td>0.514019</td>\n",
       "    </tr>\n",
       "    <tr>\n",
       "      <th>Russel</th>\n",
       "      <td>-0.382353</td>\n",
       "      <td>stable</td>\n",
       "      <td>False</td>\n",
       "      <td>100.000000</td>\n",
       "    </tr>\n",
       "    <tr>\n",
       "      <th>Deloria</th>\n",
       "      <td>0.000000</td>\n",
       "      <td>stable</td>\n",
       "      <td>False</td>\n",
       "      <td>0.065421</td>\n",
       "    </tr>\n",
       "  </tbody>\n",
       "</table>\n",
       "</div>"
      ],
      "text/plain": [
       "         regression_slope trend_status  is_popular   count_mean\n",
       "index                                                          \n",
       "Kamdyn          22.676471          Hot       False    17.850467\n",
       "Blake           13.057353          Hot        True  1619.457944\n",
       "Woodson          0.000000       stable       False     0.514019\n",
       "Russel          -0.382353       stable       False   100.000000\n",
       "Deloria          0.000000       stable       False     0.065421"
      ]
     },
     "execution_count": 93,
     "metadata": {},
     "output_type": "execute_result"
    }
   ],
   "source": [
    "slope['is_popular']=data_sum_stats['is_popular']\n",
    "slope['count_mean']=data_sum_stats['count_mean']\n",
    "slope.sample(5)"
   ]
  },
  {
   "cell_type": "markdown",
   "metadata": {},
   "source": [
    "Plot the results of final classification with all the decision boundaries:"
   ]
  },
  {
   "cell_type": "code",
   "execution_count": 95,
   "metadata": {},
   "outputs": [
    {
     "data": {
      "image/png": "[encoded data removed]",
      "text/plain": [
       "<matplotlib.figure.Figure at 0x27d9b84ceb8>"
      ]
     },
     "metadata": {},
     "output_type": "display_data"
    }
   ],
   "source": [
    "plt.figure(figsize=(15,7))\n",
    "plt.semilogy(slope['regression_slope'], slope['count_mean'], 'x', markersize=5, label='original data', color='blue')\n",
    "horiz_line_data = np.array([count_cutoff for i in range(0,len(slope))])\n",
    "plt.plot(slope['regression_slope'], horiz_line_data, '--',color='black') \n",
    "plt.axvline(x=-10,linestyle='dashed',color='r')\n",
    "plt.axvline(x=10,linestyle='dashed',color='r')  \n",
    "plt.arrow(-950, count_cutoff+100, 0, 1000, head_width=20, head_length=1000, fc='k', ec='k')\n",
    "plt.arrow(-950, count_cutoff-100, 0, -500, head_width=20,  head_length=100, fc='k', ec='k')\n",
    "plt.arrow(-20, 0.2, -100, 0, head_width=0.05,  head_length=20, fc='r', ec='r')\n",
    "plt.arrow(20, 0.2, 100, 0, head_width=0.05,  head_length=20, fc='r', ec='r')\n",
    "plt.text(-940, count_cutoff+1000, 'Popular', fontsize=18,color='black',verticalalignment='top')\n",
    "plt.text(-940, count_cutoff-200, 'Rare', fontsize=18,color='black',verticalalignment='top')\n",
    "plt.text(-260, 0.5, 'Decreasing', fontsize=18,color='red',verticalalignment='top')\n",
    "plt.text(20, 0.5, 'Hot', fontsize=18,color='red',verticalalignment='top')\n",
    "plt.ylabel('Mean count of Names', fontsize=24)\n",
    "plt.xlabel('Regression line slope', fontsize=24)\n",
    "plt.title('Calssification of Names', fontsize=30)\n",
    "plt.xticks(size=20)\n",
    "plt.yticks(size=20)\n",
    "plt.axis([-1000, 1000, 0.1, 50000])\n",
    "plt.show()"
   ]
  },
  {
   "cell_type": "code",
   "execution_count": null,
   "metadata": {},
   "outputs": [],
   "source": []
  }
 ],
 "metadata": {
  "kernelspec": {
   "display_name": "Python 3",
   "language": "python",
   "name": "python3"
  },
  "language_info": {
   "codemirror_mode": {
    "name": "ipython",
    "version": 3
   },
   "file_extension": ".py",
   "mimetype": "text/x-python",
   "name": "python",
   "nbconvert_exporter": "python",
   "pygments_lexer": "ipython3",
   "version": "3.6.4"
  }
 },
 "nbformat": 4,
 "nbformat_minor": 2
}
